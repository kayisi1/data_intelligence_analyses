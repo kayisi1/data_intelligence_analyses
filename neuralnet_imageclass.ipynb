{
  "cells": [
    {
      "cell_type": "markdown",
      "id": "2118636a",
      "metadata": {
        "id": "2118636a"
      },
      "source": [
        "# SML 301: Project 2"
      ]
    },
    {
      "cell_type": "markdown",
      "id": "4087bc01",
      "metadata": {
        "id": "4087bc01"
      },
      "source": [
        "> I pledge my honor that I have not violated the honor code when completing this assignment.\n",
        "\n",
        "Digitally signed: Kyle Ayisi, Jess Yeager\n",
        "\n",
        "----\n",
        "\n",
        "\n",
        "## Instructions for this project\n",
        "\n",
        "\n",
        "\n",
        "* Overview of the project (This is already provided to you.  You are welcome to add in more info, but it is fine to keep it the way it is.)\n",
        "* Exploratory Data Analysis (I have provided some information about the dataset in this section.)\n",
        "* Methods\n",
        "* Conclusion\n",
        "    + Result\n",
        "    + Discussion\n",
        "\n",
        "To make it convenient for the grader, please make all the code and outputs visible in your report.  \n",
        "\n",
        "Some of the sections can be brief.  You will be graded on the quality, not the length, of your work."
      ]
    },
    {
      "cell_type": "code",
      "execution_count": 1,
      "id": "105a670a",
      "metadata": {
        "id": "105a670a"
      },
      "outputs": [],
      "source": [
        "# Import libraries\n",
        "import os\n",
        "\n",
        "import numpy as np\n",
        "import torch # for training neural network\n",
        "import torch.nn as nn\n",
        "import torch.nn.functional as F # for activation functions;\n",
        "                                # max pooling functions (for NLP) etc.\n",
        "import torch.optim as optim\n",
        "from torch.utils.data import DataLoader\n",
        "from torch.utils.tensorboard import SummaryWriter # PyTorch TensorBoard support\n",
        "from torchvision import datasets, transforms, utils\n",
        "\n",
        "import matplotlib.pyplot as plt # for plotting\n",
        "\n",
        "import datetime\n",
        "from tqdm import tqdm # tqdm shows the progress bar, number of iterations,\n",
        "                      # time taken to run the loop, and frequency of iterations per second"
      ]
    },
    {
      "cell_type": "code",
      "execution_count": 2,
      "id": "e7fc2bfc",
      "metadata": {
        "id": "e7fc2bfc",
        "outputId": "18c681be-db55-4790-de0e-42eadad0a5f0",
        "colab": {
          "base_uri": "https://localhost:8080/"
        }
      },
      "outputs": [
        {
          "output_type": "execute_result",
          "data": {
            "text/plain": [
              "device(type='cpu')"
            ]
          },
          "metadata": {},
          "execution_count": 2
        }
      ],
      "source": [
        "# Device configuration\n",
        "# this will allow you to train on the gpu if your computer has one; otherwise,\n",
        "# it will use the cpu\n",
        "device = torch.device('cuda' if torch.cuda.is_available() else 'cpu')\n",
        "device # check to see if it is using a gpu or cpu"
      ]
    },
    {
      "cell_type": "code",
      "source": [
        "%load_ext tensorboard\n"
      ],
      "metadata": {
        "id": "iDrxszHraD4j"
      },
      "id": "iDrxszHraD4j",
      "execution_count": 3,
      "outputs": []
    },
    {
      "cell_type": "code",
      "source": [
        "!rm -rf ./logs/"
      ],
      "metadata": {
        "id": "ksaeXZSZaSUV"
      },
      "id": "ksaeXZSZaSUV",
      "execution_count": 4,
      "outputs": []
    },
    {
      "cell_type": "markdown",
      "id": "8bd74072",
      "metadata": {
        "id": "8bd74072"
      },
      "source": [
        "## Overview\n",
        "\n",
        "\n",
        "The Cifar10 dataset contains 60000 32x32 colour images in 10 classes, with 6000 images per class (https://www.cs.toronto.edu/~kriz/cifar.html). ([This tech report](https://www.cs.toronto.edu/~kriz/learning-features-2009-TR.pdf) (Chapter 3) describes the dataset and the methodology followed when collecting it in much greater detail.)  In this project we will build a neural network to classify images in Cifar10 into 10 classes.  \n",
        "\n",
        "ImageNet is a dataset of over 15 million labeled high-resolution images belonging to roughly 22,000 categories. The images were collected from the web and labeled by human labelers using Amazon’s Mechanical Turk crowd-sourcing tool. Starting in 2010, as part of the Pascal Visual Object Challenge, an annual competition called the ImageNet Large-Scale Visual Recognition Challenge (ILSVRC) has been held. ImageNet consists of variable-resolution images. Therefore, the images have been down-sampled to a fixed resolution of 256×256. Given a rectangular image, the image is rescaled and cropped out the central 256×256 patch from the resulting image.\n",
        "\n",
        "AlexNet is the name of a convolutional neural network which has had a large impact on the field of machine learning, specifically in the application of deep learning to machine vision. It famously won the 2012 ImageNet LSVRC-2012 competition by a large margin (15.3% VS 26.2% (second place) error rates). The network had a very similar architecture as LeNet by Yann LeCun et al but was deeper, with more filters per layer, and with stacked convolutional layers (https://neurohive.io/en/popular-networks/alexnet-imagenet-classification-with-deep-convolutional-neural-networks/).\n",
        "\n",
        "\n",
        "<img src=\"./AlexNet.png\" alt=\"AlexNet\" />\n",
        "\n",
        "\n",
        "\n",
        "## Exploratory Data Analysis\n",
        "\n",
        "The means and sd's for the channels of the Cifar10 dataset are:\n",
        "\n",
        "mean: 0.49139968, 0.48215827, 0.44653124\n",
        "std: 0.24703233, 0.24348505, 0.26158768\n",
        "\n",
        "Similar to what we did with the MNIST dataset, we can read in the nontest set of the Cifar10 dataset and split it into training and validation sets as shown below.  What is the\n",
        "image resolution (i.e., how many pixels there are in each image) for the pictures in the Cifar10 dataset? We plot the first 6 images in the training set and show their labels."
      ]
    },
    {
      "cell_type": "code",
      "execution_count": 5,
      "id": "7d55080c",
      "metadata": {
        "id": "7d55080c"
      },
      "outputs": [],
      "source": [
        "# mean's and sd's\n",
        "train_mean, train_sd = [0.49139968, 0.48215827, 0.44653124], [ 0.24703233, 0.24348505, 0.26158768]"
      ]
    },
    {
      "cell_type": "code",
      "execution_count": 6,
      "id": "4064d1f5",
      "metadata": {
        "id": "4064d1f5",
        "outputId": "cbc993ce-f1e1-4a90-e858-63625dbe65a9",
        "colab": {
          "base_uri": "https://localhost:8080/"
        }
      },
      "outputs": [
        {
          "output_type": "stream",
          "name": "stdout",
          "text": [
            "Files already downloaded and verified\n"
          ]
        }
      ],
      "source": [
        "# set up training and validation sets\n",
        "cifar_data = datasets.CIFAR10('data', train=True, download = True,\n",
        "                            transform=transforms.Compose([\n",
        "                               transforms.ToTensor(), # scale to values between 0 & 1 first.\n",
        "                               transforms.Normalize( # then, normalize the data so that\n",
        "                                 train_mean, train_sd) # we have mean 0 and sd 1\n",
        "                             ]))\n",
        "\n"
      ]
    },
    {
      "cell_type": "code",
      "execution_count": 7,
      "id": "d7d4e4cf",
      "metadata": {
        "id": "d7d4e4cf",
        "outputId": "4e403f20-28e1-49be-b735-583624fb7f97",
        "colab": {
          "base_uri": "https://localhost:8080/"
        }
      },
      "outputs": [
        {
          "output_type": "stream",
          "name": "stdout",
          "text": [
            "<class 'numpy.ndarray'>\n",
            "50000\n",
            "(50000, 32, 32, 3)\n",
            "['airplane', 'automobile', 'bird', 'cat', 'deer', 'dog', 'frog', 'horse', 'ship', 'truck']\n"
          ]
        }
      ],
      "source": [
        "# use the .data method to access the images:\n",
        "print(type(cifar_data.data)) # what is the object type of the data?\n",
        "print(len(cifar_data.data)) # how many pictures are there in `cifar_data`?\n",
        "print(cifar_data.data.shape) # what are the dimensions of the data stored in `cifar_data`?\n",
        "print(cifar_data.classes) # what are the unique classes of the pictures in `cifar_data`?"
      ]
    },
    {
      "cell_type": "code",
      "execution_count": 8,
      "id": "a9b89a81",
      "metadata": {
        "id": "a9b89a81",
        "outputId": "516f926e-5858-4f20-bdb1-a3e77dd07992",
        "colab": {
          "base_uri": "https://localhost:8080/",
          "height": 135
        }
      },
      "outputs": [
        {
          "output_type": "display_data",
          "data": {
            "text/plain": [
              "<Figure size 640x480 with 6 Axes>"
            ],
            "image/png": "[encoded data removed]"
          },
          "metadata": {}
        }
      ],
      "source": [
        "# plot the first 6 images in training\n",
        "for k, image in enumerate(cifar_data.data[:6]):\n",
        "    plt.subplot(1, 6, k+1)\n",
        "    plt.imshow(image)"
      ]
    },
    {
      "cell_type": "code",
      "execution_count": 9,
      "id": "f7bba2d9",
      "metadata": {
        "id": "f7bba2d9",
        "outputId": "a64e7da1-6fe0-4260-ad17-e9cb41f5afbf",
        "colab": {
          "base_uri": "https://localhost:8080/"
        }
      },
      "outputs": [
        {
          "output_type": "stream",
          "name": "stdout",
          "text": [
            "[6, 9, 9, 4, 1, 1]\n",
            "['airplane', 'automobile', 'bird', 'cat', 'deer', 'dog', 'frog', 'horse', 'ship', 'truck']\n",
            "['frog', 'truck', 'truck', 'deer', 'automobile', 'automobile']\n"
          ]
        }
      ],
      "source": [
        "print(cifar_data.targets[:6]) # numeric class labels\n",
        "print(cifar_data.classes)\n",
        "# classes listed in the order of the numeric class labels;\n",
        "# E.g., `airplane` is class 0, automobile' is class 1\n",
        "\n",
        "# The labels for the first 6 images are\n",
        "print([cifar_data.classes[index] for index in cifar_data.targets[:6]])"
      ]
    },
    {
      "cell_type": "code",
      "execution_count": 10,
      "id": "d4902195",
      "metadata": {
        "id": "d4902195"
      },
      "outputs": [],
      "source": [
        "# define the values for some of the variables\n",
        "\n",
        "# split into batches\n",
        "bch_size = 32 # batch size for training\n",
        "val_bch_size = 100 # validation set batch size\n",
        "\n",
        "# number of pictures in the training and validation sets\n",
        "train_size = 45000\n",
        "val_size = 5000"
      ]
    },
    {
      "cell_type": "code",
      "execution_count": 11,
      "id": "33f7b484",
      "metadata": {
        "id": "33f7b484"
      },
      "outputs": [],
      "source": [
        "cifar = list(cifar_data)\n",
        "\n",
        "train_cifar = cifar[:train_size]\n",
        "\n",
        "val_cifar = cifar[train_size:(train_size + val_size + 1)]"
      ]
    },
    {
      "cell_type": "code",
      "execution_count": 12,
      "id": "2b0dd907",
      "metadata": {
        "id": "2b0dd907"
      },
      "outputs": [],
      "source": [
        "train_loader = torch.utils.data.DataLoader(train_cifar,\n",
        "                                           batch_size=bch_size,\n",
        "                                           shuffle=True)\n",
        "val_loader = torch.utils.data.DataLoader(val_cifar,\n",
        "                                         batch_size=val_bch_size,\n",
        "                                         shuffle=True)"
      ]
    },
    {
      "cell_type": "markdown",
      "id": "aa3ea62d",
      "metadata": {
        "id": "aa3ea62d"
      },
      "source": [
        "## Methods\n",
        "\n",
        "We will build a neural network with both convolutional and dense layers to classify the Cifar10 images into 10 classes.  We will build a neural network and try to \"borrow\" some elements in the AlexNet architecture.  Note that AlexNet was train on 256x256 images.  However, the images that we are dealing with are smaller.  Thus, we should adjust the filter sizes, number of filters, and stride sizes accordingly.\n",
        "\n",
        "\n",
        "### Baseline Model\n",
        "\n",
        "As a baseline, please implement the following model to see what kind of accuracy and loss you can get.  Report the accuracy on the test set (you will need to load the test set yourself).  Provide graphs to show that you did not overfit the model.  Now, improve the baseline model to achieve a better performance.  Again, report the test accuracy and provide graphs to show that you did not overfit the model. As mentioned in lecture, oftentimes varying the learning rate and the batch size might affect how fast the parameter values converge, but will have little impact on the performance of the model in terms of accuracy and loss.  Therefore, I suggest just using the learning rate 0.001 and the batch size mentioned above.  \n",
        "\n",
        "\n",
        "* first layer:\n",
        "\n",
        "a convolutional layer with 64 channels with (3 x 3) filters; activation function: relu.\n",
        "\n",
        "a maximum pooling layer with (2 x 2 filter), each time move the filter 2 steps when moving horizontally and vertically, no padding\n",
        "\n",
        "dropout rate: 40%\n",
        "\n",
        "* second layer:\n",
        "\n",
        "a convolutional layer with 128 channels with (3 x 3) filters, each time move the filter 1 steps when moving horizontally and vertically; add one line of zeros to all four sides of the input for padding; activation function: relu.\n",
        "\n",
        "a maximum pooling layer with (2 x 2 filter), each time move the filter 2 steps when moving horizontally and vertically, no padding\n",
        "\n",
        "dropout rate: 25%\n",
        "\n",
        "* third layer:\n",
        "\n",
        "a convolutional layer with 256 channels with (3 x 3) filters, each time move the filter 1 steps when moving horizontally and vertically; add one line of zeros to all four sides of the input for padding; activation function: relu.\n",
        "\n",
        "a maximum pooling layer with (2 x 2 filter), each time move the filter 2 steps when moving horizontally and vertically, no padding\n",
        "\n",
        "dropout rate: 25%\n",
        "\n",
        "\n",
        "* flatten image\n",
        "\n",
        "* fourth layer:\n",
        "\n",
        "dense layer with 256 neurons; activation function: relu.\n",
        "\n",
        "* fifth layer:\n",
        "\n",
        "dense layer with 64 neurons; activation function: relu.\n",
        "\n",
        "* sixth layer:\n",
        "\n",
        "dense layer with 10 neurons; activation function: softmax (no need to code the softmax function since the `CrossEntropyLoss()` function includes this part)"
      ]
    },
    {
      "cell_type": "code",
      "source": [
        "class Baseline(nn.Module):\n",
        "    def __init__(self):\n",
        "        super(Baseline, self).__init__()\n",
        "        self.name = \"baseline_model\"\n",
        "        self.conv1 = nn.Conv2d(3, 64, 3) #3, 8, 3\n",
        "        self.pool1 = nn.MaxPool2d(2, 2)\n",
        "        self.dropout1 = nn.Dropout(0.4)\n",
        "\n",
        "        self.conv2 = nn.Conv2d(64, 128, 3, stride=1, padding=1) # 8, 16, 3\n",
        "        self.pool2 = nn.MaxPool2d(2, 2)\n",
        "        self.dropout2 = nn.Dropout(0.25)\n",
        "\n",
        "        self.conv3 = nn.Conv2d(128, 256, 3, stride=1, padding=1) # 16, 32, 3\n",
        "        self.pool3 = nn.MaxPool2d(2, 2)\n",
        "        self.dropout3 = nn.Dropout(0.25)\n",
        "\n",
        "        #make sure to flatten here\n",
        "\n",
        "        self.fc1 = nn.Linear(3 * 3 * 256, 256)\n",
        "\n",
        "        self.fc2 = nn.Linear(256, 64)\n",
        "\n",
        "        self.fc3 = nn.Linear(64, 10)\n",
        "\n",
        "    def forward(self, x):\n",
        "        x = self.dropout1(self.pool1(F.relu(self.conv1(x))))\n",
        "        x = self.dropout2(self.pool2(F.relu(self.conv2(x))))\n",
        "        x = self.dropout3(self.pool3(F.relu(self.conv3(x))))\n",
        "        flat = x.view(-1, 3 * 3 * 256)\n",
        "\n",
        "        x = F.relu(self.fc1(flat))\n",
        "        x = F.relu(self.fc2(x))\n",
        "        x = self.fc3(x)\n",
        "\n",
        "        return x"
      ],
      "metadata": {
        "id": "7LIdj22ga9zA"
      },
      "id": "7LIdj22ga9zA",
      "execution_count": 13,
      "outputs": []
    },
    {
      "cell_type": "code",
      "source": [
        "torch.manual_seed(2023)\n",
        "\n",
        "net = Baseline()\n",
        "print(net)"
      ],
      "metadata": {
        "colab": {
          "base_uri": "https://localhost:8080/"
        },
        "id": "fYIukmpjcYTC",
        "outputId": "5de00d03-18f0-46b3-fab5-6913669c8b83"
      },
      "id": "fYIukmpjcYTC",
      "execution_count": 14,
      "outputs": [
        {
          "output_type": "stream",
          "name": "stdout",
          "text": [
            "Baseline(\n",
            "  (conv1): Conv2d(3, 64, kernel_size=(3, 3), stride=(1, 1))\n",
            "  (pool1): MaxPool2d(kernel_size=2, stride=2, padding=0, dilation=1, ceil_mode=False)\n",
            "  (dropout1): Dropout(p=0.4, inplace=False)\n",
            "  (conv2): Conv2d(64, 128, kernel_size=(3, 3), stride=(1, 1), padding=(1, 1))\n",
            "  (pool2): MaxPool2d(kernel_size=2, stride=2, padding=0, dilation=1, ceil_mode=False)\n",
            "  (dropout2): Dropout(p=0.25, inplace=False)\n",
            "  (conv3): Conv2d(128, 256, kernel_size=(3, 3), stride=(1, 1), padding=(1, 1))\n",
            "  (pool3): MaxPool2d(kernel_size=2, stride=2, padding=0, dilation=1, ceil_mode=False)\n",
            "  (dropout3): Dropout(p=0.25, inplace=False)\n",
            "  (fc1): Linear(in_features=2304, out_features=256, bias=True)\n",
            "  (fc2): Linear(in_features=256, out_features=64, bias=True)\n",
            "  (fc3): Linear(in_features=64, out_features=10, bias=True)\n",
            ")\n"
          ]
        }
      ]
    },
    {
      "cell_type": "markdown",
      "source": [
        "After building the model, we want to train it on our training set of 45000 images, and validate it using 5000 novel images. As we do so, we calculate the average validation loss for each epoch to analyze the model's fit to unseen data."
      ],
      "metadata": {
        "id": "1_thaR3AoGfn"
      },
      "id": "1_thaR3AoGfn"
    },
    {
      "cell_type": "code",
      "source": [
        "#Training\n",
        "val_loss_list = []\n",
        "def train(model, criterion, train_loader, val_loader, logger, num_epoch,\n",
        "          lr, bsize, start_epoch = 0):\n",
        "    '''\n",
        "    start_epoch: starting index of the first round of epoch run\n",
        "    num_epoch: the number of epochs to run\n",
        "    '''\n",
        "    optimizer = optim.Adam(model.parameters(), lr=lr)  #is this right?\n",
        "\n",
        "    # check if the folder `checkpoints` exists; if not, create the folder\n",
        "    if not os.path.exists('checkpoints'):\n",
        "        os.mkdir('checkpoints')\n",
        "\n",
        "    for epoch in range(start_epoch, start_epoch + num_epoch):\n",
        "        model = model.to(device) # `.to(device)` moves model to GPU (if available) to compute\n",
        "\n",
        "\n",
        "        model.train() # sets the mode for training; this does not take any practical actions\n",
        "        # tqdm() setup the progress bar for the training part\n",
        "\n",
        "        with tqdm(train_loader, desc=f\"Training Epoch {epoch}\") as t:\n",
        "            for batch_idx, (inputs, labels) in enumerate(t):\n",
        "                inputs, labels = inputs.to(device), labels.to(device) # `.to(device)` moves data to GPU to compute\n",
        "                outputs = model(inputs)\n",
        "                loss = criterion(outputs, labels)\n",
        "\n",
        "                optimizer.zero_grad() # a clean up step for PyTorch\n",
        "                loss.backward() # compute updates for each parameter\n",
        "                optimizer.step() # make the updates for each parameter\n",
        "\n",
        "                logger.add_scalar('train/loss', loss.item(), epoch*len(train_loader)+(batch_idx + 1))\n",
        "                t.set_postfix({'training_loss': loss.item()}) # add a dictionary item to display\n",
        "                                                              # at the end of the progress bar\n",
        "\n",
        "\n",
        "        val_loss, correct = 0.0, 0\n",
        "        model.eval() # sets the mode for validation;  this means avoid using dropout\n",
        "        with torch.no_grad():\n",
        "            for inputs, labels in tqdm(val_loader, desc=f\"Validating\"):\n",
        "                inputs, labels = inputs.to(device), labels.to(device)\n",
        "                outputs = model(inputs)\n",
        "                val_loss += criterion(outputs, labels).item() # `a += 1` means `a = a + 1`\n",
        "                # .item() returns the value of this tensor as a standard Python number\n",
        "                # This only works for tensors with one element\n",
        "                pred = outputs.argmax(dim=1) # predicted class with the highest predicted probability\n",
        "                correct += pred.eq(labels.view_as(pred)).sum()\n",
        "\n",
        "        ave_val_loss = val_loss / len(val_loader)\n",
        "        val_acc = correct / len(val_loader.dataset)\n",
        "\n",
        "        logger.add_histogram(\"conv1.bias\", model.conv1.bias, epoch)\n",
        "        logger.add_histogram(\"conv1.weight\", model.conv1.weight, epoch)\n",
        "        logger.add_histogram(\"conv2.bias\", model.conv2.bias, epoch)\n",
        "        logger.add_histogram(\"conv2.weight\", model.conv2.weight, epoch)\n",
        "        logger.add_histogram(\"conv3.bias\", model.conv3.bias, epoch)\n",
        "        logger.add_histogram(\"conv3.weight\", model.conv3.weight, epoch)\n",
        "\n",
        "        logger.add_scalar(tag = 'val/loss', scalar_value = ave_val_loss, global_step = epoch)\n",
        "        logger.add_scalar('val/acc', val_acc, epoch)\n",
        "        print(f'Average loss: {ave_val_loss:.4f}, Accuracy: {correct}/{len(val_loader.dataset)} ({100*val_acc:.1f}%)\\n')\n",
        "        val_loss_list.append(ave_val_loss)\n",
        "\n",
        "        # save the updated weights after each epoch\n",
        "        torch.save(model.state_dict(), f\"checkpoints/lr{lr}_bsize{bsize}.pth\")"
      ],
      "metadata": {
        "id": "GDoLaDGmeeYJ"
      },
      "id": "GDoLaDGmeeYJ",
      "execution_count": 15,
      "outputs": []
    },
    {
      "cell_type": "code",
      "source": [
        "criterion = nn.CrossEntropyLoss()\n",
        "lr = 0.001\n",
        "logger = SummaryWriter(f'./logs/lr{lr}_bsize{bch_size}.pth')"
      ],
      "metadata": {
        "id": "H5Qhxu3ehLY-"
      },
      "id": "H5Qhxu3ehLY-",
      "execution_count": 16,
      "outputs": []
    },
    {
      "cell_type": "code",
      "source": [
        "train(net, criterion, train_loader, val_loader, logger, num_epoch=10, lr = lr, bsize = bch_size, start_epoch = 0)"
      ],
      "metadata": {
        "colab": {
          "base_uri": "https://localhost:8080/"
        },
        "id": "iMaNW8AkhpNh",
        "outputId": "8c2fc187-5492-4617-dd11-9167fc240b1e"
      },
      "id": "iMaNW8AkhpNh",
      "execution_count": 17,
      "outputs": [
        {
          "output_type": "stream",
          "name": "stderr",
          "text": [
            "Training Epoch 0: 100%|██████████| 1407/1407 [05:19<00:00,  4.40it/s, training_loss=0.655]\n",
            "Validating: 100%|██████████| 50/50 [00:13<00:00,  3.71it/s]\n"
          ]
        },
        {
          "output_type": "stream",
          "name": "stdout",
          "text": [
            "Average loss: 1.1796, Accuracy: 2878/5000 (57.6%)\n",
            "\n"
          ]
        },
        {
          "output_type": "stream",
          "name": "stderr",
          "text": [
            "Training Epoch 1: 100%|██████████| 1407/1407 [05:41<00:00,  4.12it/s, training_loss=0.588]\n",
            "Validating: 100%|██████████| 50/50 [00:11<00:00,  4.33it/s]\n"
          ]
        },
        {
          "output_type": "stream",
          "name": "stdout",
          "text": [
            "Average loss: 0.9954, Accuracy: 3289/5000 (65.8%)\n",
            "\n"
          ]
        },
        {
          "output_type": "stream",
          "name": "stderr",
          "text": [
            "Training Epoch 2: 100%|██████████| 1407/1407 [05:42<00:00,  4.10it/s, training_loss=1.51]\n",
            "Validating: 100%|██████████| 50/50 [00:11<00:00,  4.32it/s]\n"
          ]
        },
        {
          "output_type": "stream",
          "name": "stdout",
          "text": [
            "Average loss: 0.9017, Accuracy: 3559/5000 (71.2%)\n",
            "\n"
          ]
        },
        {
          "output_type": "stream",
          "name": "stderr",
          "text": [
            "Training Epoch 3: 100%|██████████| 1407/1407 [05:14<00:00,  4.48it/s, training_loss=0.997]\n",
            "Validating: 100%|██████████| 50/50 [00:11<00:00,  4.54it/s]\n"
          ]
        },
        {
          "output_type": "stream",
          "name": "stdout",
          "text": [
            "Average loss: 0.8162, Accuracy: 3615/5000 (72.3%)\n",
            "\n"
          ]
        },
        {
          "output_type": "stream",
          "name": "stderr",
          "text": [
            "Training Epoch 4: 100%|██████████| 1407/1407 [05:10<00:00,  4.53it/s, training_loss=0.525]\n",
            "Validating: 100%|██████████| 50/50 [00:10<00:00,  4.66it/s]\n"
          ]
        },
        {
          "output_type": "stream",
          "name": "stdout",
          "text": [
            "Average loss: 0.7709, Accuracy: 3676/5000 (73.5%)\n",
            "\n"
          ]
        },
        {
          "output_type": "stream",
          "name": "stderr",
          "text": [
            "Training Epoch 5: 100%|██████████| 1407/1407 [05:31<00:00,  4.25it/s, training_loss=0.884]\n",
            "Validating: 100%|██████████| 50/50 [00:11<00:00,  4.32it/s]\n"
          ]
        },
        {
          "output_type": "stream",
          "name": "stdout",
          "text": [
            "Average loss: 0.7291, Accuracy: 3770/5000 (75.4%)\n",
            "\n"
          ]
        },
        {
          "output_type": "stream",
          "name": "stderr",
          "text": [
            "Training Epoch 6: 100%|██████████| 1407/1407 [05:08<00:00,  4.56it/s, training_loss=0.348]\n",
            "Validating: 100%|██████████| 50/50 [00:11<00:00,  4.41it/s]\n"
          ]
        },
        {
          "output_type": "stream",
          "name": "stdout",
          "text": [
            "Average loss: 0.7275, Accuracy: 3783/5000 (75.7%)\n",
            "\n"
          ]
        },
        {
          "output_type": "stream",
          "name": "stderr",
          "text": [
            "Training Epoch 7: 100%|██████████| 1407/1407 [05:05<00:00,  4.61it/s, training_loss=0.939]\n",
            "Validating: 100%|██████████| 50/50 [00:11<00:00,  4.40it/s]\n"
          ]
        },
        {
          "output_type": "stream",
          "name": "stdout",
          "text": [
            "Average loss: 0.6988, Accuracy: 3807/5000 (76.1%)\n",
            "\n"
          ]
        },
        {
          "output_type": "stream",
          "name": "stderr",
          "text": [
            "Training Epoch 8: 100%|██████████| 1407/1407 [05:03<00:00,  4.63it/s, training_loss=0.185]\n",
            "Validating: 100%|██████████| 50/50 [00:11<00:00,  4.40it/s]\n"
          ]
        },
        {
          "output_type": "stream",
          "name": "stdout",
          "text": [
            "Average loss: 0.6808, Accuracy: 3863/5000 (77.3%)\n",
            "\n"
          ]
        },
        {
          "output_type": "stream",
          "name": "stderr",
          "text": [
            "Training Epoch 9: 100%|██████████| 1407/1407 [05:02<00:00,  4.66it/s, training_loss=0.344]\n",
            "Validating: 100%|██████████| 50/50 [00:11<00:00,  4.42it/s]"
          ]
        },
        {
          "output_type": "stream",
          "name": "stdout",
          "text": [
            "Average loss: 0.6585, Accuracy: 3882/5000 (77.6%)\n",
            "\n"
          ]
        },
        {
          "output_type": "stream",
          "name": "stderr",
          "text": [
            "\n"
          ]
        }
      ]
    },
    {
      "cell_type": "markdown",
      "id": "9ddbc047-84db-41e2-94b9-5c5a7ddf39a1",
      "metadata": {
        "id": "9ddbc047-84db-41e2-94b9-5c5a7ddf39a1"
      },
      "source": [
        "### Improved Model (up to 3 points of extra credit for any points lost on this assignment; i.e., the maximum total score remains 100 for this assignment)\n",
        "\n",
        "Improve the baseline model by modifying it architecture.  Show that your improved model increases the accuracy by at least 2%."
      ]
    },
    {
      "cell_type": "code",
      "source": [
        "print(val_loss_list)"
      ],
      "metadata": {
        "colab": {
          "base_uri": "https://localhost:8080/"
        },
        "id": "SvgxzmBuitTe",
        "outputId": "271a2293-3e24-43c2-e092-c2ff425a4d70"
      },
      "id": "SvgxzmBuitTe",
      "execution_count": 22,
      "outputs": [
        {
          "output_type": "stream",
          "name": "stdout",
          "text": [
            "[1.1796008455753326, 0.995367671251297, 0.9017119359970093, 0.8161853003501892, 0.7708502101898194, 0.7291182482242584, 0.7274828708171844, 0.6988062852621079, 0.6808289003372192, 0.6585230404138565]\n"
          ]
        }
      ]
    },
    {
      "cell_type": "markdown",
      "source": [
        "We then define a set of hyperparameters to run through, in the hopes of improving the baseline model with parameters that better suit it. This setup runs through each combination of our two hyperparameters: learning rate and batch size.\n",
        "\n",
        "In the case we wanted to improve our baseline model, the steps are commented out below: We would want to create a dictionary of the hyperparameter values we want to test, then we would repeat what was done above but with each combination of parameters to then select the best model to use for novel data. We did not have the time to run through these different combinations but the necessary code is below.\n",
        "\n",
        "With these various models, if one of them has better accuracy and less loss than our baseline, we could select this model and this could potentially improve our accuracy."
      ],
      "metadata": {
        "id": "PK83rTLbpf3k"
      },
      "id": "PK83rTLbpf3k"
    },
    {
      "cell_type": "code",
      "source": [
        "'''\n",
        "from itertools import product\n",
        "\n",
        "#create a dictionary for the possible hyperparameter values\n",
        "hyperparameters = {'lr': [0.01, 0.001], 'batch_size': [32,64,128]}\n",
        "\n",
        "#for lr,batch_size in product(*hyperparam_values): # *hyperparam_values means taking\n",
        "                             # exactly one value from each hyperparameter category at a time\n",
        "#    print(lr, batch_size)\n",
        "'''"
      ],
      "metadata": {
        "id": "-1O99cRDrEYd"
      },
      "id": "-1O99cRDrEYd",
      "execution_count": null,
      "outputs": []
    },
    {
      "cell_type": "code",
      "source": [
        "'''\n",
        "def get_num_correct(preds, labels):\n",
        "    return preds.argmax(dim=1).eq(labels).sum().item()\n",
        "device = (\"cuda\" if torch.cuda.is_available() else 'cpu')\n",
        "\n",
        "tb = SummaryWriter()\n",
        "model = Baseline().to(device)\n",
        "train_loader = torch.utils.data.DataLoader(train_cifar, batch_size = bch_size, shuffle = True)\n",
        "optimizer = optim.Adam(model.parameters(), lr=lr)\n",
        "criterion = nn.CrossEntropyLoss()\n",
        "images, labels = next(iter(train_loader))\n",
        "grid = utils.make_grid(images)\n",
        "tb.add_image(\"images\", grid)\n",
        "tb.add_graph(model, images)\n",
        "avg_loss = []\n",
        "for epoch in range(10):\n",
        "\n",
        "    total_loss = 0\n",
        "    total_correct = 0\n",
        "\n",
        "    for images, labels in train_loader:\n",
        "        images, labels = images.to(device), labels.to(device)\n",
        "        preds = model(images)\n",
        "\n",
        "        loss = criterion(preds, labels)\n",
        "        total_loss+= loss.item()\n",
        "        total_correct+= get_num_correct(preds, labels)\n",
        "\n",
        "\n",
        "\n",
        "        optimizer.zero_grad()\n",
        "        loss.backward()\n",
        "        optimizer.step()\n",
        "        avg_loss.append(total_loss/len(train_loader))\n",
        "    tb.add_scalar(\"Loss\", total_loss/len(train_loader), epoch) # len(train_loader) gives\n",
        "                                                               # the number of batches\n",
        "    tb.add_scalar(\"Correct\", total_correct, epoch)\n",
        "    tb.add_scalar(\"Accuracy\", total_correct/ len(train_cifar), epoch)\n",
        "\n",
        "    tb.add_histogram(\"conv1.bias\", model.conv1.bias, epoch)\n",
        "    tb.add_histogram(\"conv1.weight\", model.conv1.weight, epoch)\n",
        "    tb.add_histogram(\"conv2.bias\", model.conv2.bias, epoch)\n",
        "    tb.add_histogram(\"conv2.weight\", model.conv2.weight, epoch)\n",
        "    tb.add_histogram(\"conv3.weight\", model.conv3.weight, epoch)\n",
        "    tb.add_histogram(\"conv3.bias\", model.conv3.bias, epoch)\n",
        "\n",
        "    print(\"epoch:\", epoch, \"total_correct:\", total_correct, \"loss:\",total_loss/len(train_loader))\n",
        "\n",
        "tb.close()\n",
        "'''"
      ],
      "metadata": {
        "id": "pupnPpWAlnD1"
      },
      "id": "pupnPpWAlnD1",
      "execution_count": null,
      "outputs": []
    },
    {
      "cell_type": "markdown",
      "source": [
        "Lastly, we want to produce a visualization of how well the model is working on our validation set. We plot the average validation loss against the epoch number to understand this."
      ],
      "metadata": {
        "id": "tczXFg8Jp03Z"
      },
      "id": "tczXFg8Jp03Z"
    },
    {
      "cell_type": "code",
      "source": [
        "epochs = np.arange(1, 11)\n",
        "print(epochs)"
      ],
      "metadata": {
        "colab": {
          "base_uri": "https://localhost:8080/"
        },
        "id": "unJtzf2WdJza",
        "outputId": "d088c5db-8296-49a7-d530-1dd0603f69ec"
      },
      "id": "unJtzf2WdJza",
      "execution_count": 19,
      "outputs": [
        {
          "output_type": "stream",
          "name": "stdout",
          "text": [
            "[ 1  2  3  4  5  6  7  8  9 10]\n"
          ]
        }
      ]
    },
    {
      "cell_type": "code",
      "execution_count": 20,
      "id": "953ff0fb",
      "metadata": {
        "id": "953ff0fb",
        "colab": {
          "base_uri": "https://localhost:8080/",
          "height": 489
        },
        "outputId": "090908dd-5388-4263-abc4-3f7074a79abc"
      },
      "outputs": [
        {
          "output_type": "execute_result",
          "data": {
            "text/plain": [
              "Text(0, 0.5, 'Validation Loss')"
            ]
          },
          "metadata": {},
          "execution_count": 20
        },
        {
          "output_type": "display_data",
          "data": {
            "text/plain": [
              "<Figure size 640x480 with 1 Axes>"
            ],
            "image/png": "[encoded data removed]"
          },
          "metadata": {}
        }
      ],
      "source": [
        "fig = plt.figure()\n",
        "ax = plt.axes()\n",
        "plt.plot(epochs, val_loss_list)\n",
        "plt.title(\"Validation loss vs. Epoch Number\")\n",
        "plt.xlabel(\"Epoch Number\")\n",
        "plt.ylabel(\"Validation Loss\")"
      ]
    },
    {
      "cell_type": "markdown",
      "id": "78cd3141",
      "metadata": {
        "id": "78cd3141"
      },
      "source": [
        "## Conclusion\n",
        "\n",
        "Please answer the following questions in the Conclusion > Discussion section.\n",
        "\n",
        "    \n",
        "### Question 1.  Conceptual question\n",
        "\n",
        "* Say, we have 200 gray scale images to classify.  We divide them into 10 random disjoint subsets, each with 20 images.  Each image is of 24 x 24 pixels.  We will train an artificial neural network (ANN) with 2 hidden dense layers to classify the images.  The first hidden layer has 256 neurons and the second hidden layer has 96 neurons.\n",
        "\n",
        "For each subset of 20 images, we use forward propagation to calculate the the value of the cost function and then the back-propagation to adjust the values of the weights in the network. We will go through this procedure with one subset after another until we use up all 200 images.  \n",
        "\n",
        "Then, we repeat the process: divide the 200 images into 10 random disjoint subsets, apply forward and back propagation to each subset until we use up all 200 images.  We repeat the process 70 times.\n",
        "\n",
        "(Fill in the blanks with the correct answers)  In this example, the input layer should have 24 * 24 neurons, including the neuron that corresponds to the bias.  The batch size is 20, and the total number of epochs is 70.\n",
        "\n",
        "### Question 2.  Conceptual question\n",
        "\n",
        "When training a neural network for a binary classification problem, is it\n",
        "possible for the network’s training accuracy to stay the same even while\n",
        "the loss function decreases?  Explain.\n",
        "\n",
        "Yes -- loss is a more sensitive and often better measure of model performance so loss can continue to go down while accuracy plateaus.\n",
        "\n",
        "\n",
        "### Question 3.  Application\n",
        "\n",
        "After how many epochs does the baseline model start to overfit?  Support your answer with graphs.  You can use either the `matplotlib` or `seaborn` libraries to make these graphs.  Note that TensorBoard graphs are for you to monitor the model training only and they will not show up on the pdf file of your report.\n",
        "\n",
        "The model does not seem to overfit after 10 epochs (no plateau after 10 epochs on graph), so it may take more than 10 epochs for the validation loss to start creeping back up, a sign of overfitting."
      ]
    }
  ],
  "metadata": {
    "kernelspec": {
      "display_name": "Python 3 (ipykernel)",
      "language": "python",
      "name": "python3"
    },
    "language_info": {
      "codemirror_mode": {
        "name": "ipython",
        "version": 3
      },
      "file_extension": ".py",
      "mimetype": "text/x-python",
      "name": "python",
      "nbconvert_exporter": "python",
      "pygments_lexer": "ipython3",
      "version": "3.10.13"
    },
    "toc": {
      "base_numbering": 1,
      "nav_menu": {},
      "number_sections": true,
      "sideBar": true,
      "skip_h1_title": true,
      "title_cell": "Table of Contents",
      "title_sidebar": "Contents",
      "toc_cell": false,
      "toc_position": {},
      "toc_section_display": true,
      "toc_window_display": false
    },
    "colab": {
      "provenance": []
    }
  },
  "nbformat": 4,
  "nbformat_minor": 5
}